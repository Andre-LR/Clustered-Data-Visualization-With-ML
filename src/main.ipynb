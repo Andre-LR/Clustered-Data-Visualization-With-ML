{
 "cells": [
  {
   "cell_type": "code",
   "execution_count": 1,
   "metadata": {},
   "outputs": [],
   "source": [
    "import pandas as pd"
   ]
  },
  {
   "cell_type": "code",
   "execution_count": 2,
   "metadata": {},
   "outputs": [
    {
     "name": "stdout",
     "output_type": "stream",
     "text": [
      "<class 'pandas.core.frame.DataFrame'>\n",
      "RangeIndex: 144233 entries, 0 to 144232\n",
      "Data columns (total 41 columns):\n",
      " #   Column         Non-Null Count   Dtype  \n",
      "---  ------         --------------   -----  \n",
      " 0   TransactionID  144233 non-null  int64  \n",
      " 1   id_01          144233 non-null  float64\n",
      " 2   id_02          140872 non-null  float64\n",
      " 3   id_03          66324 non-null   float64\n",
      " 4   id_04          66324 non-null   float64\n",
      " 5   id_05          136865 non-null  float64\n",
      " 6   id_06          136865 non-null  float64\n",
      " 7   id_07          5155 non-null    float64\n",
      " 8   id_08          5155 non-null    float64\n",
      " 9   id_09          74926 non-null   float64\n",
      " 10  id_10          74926 non-null   float64\n",
      " 11  id_11          140978 non-null  float64\n",
      " 12  id_12          144233 non-null  object \n",
      " 13  id_13          127320 non-null  float64\n",
      " 14  id_14          80044 non-null   float64\n",
      " 15  id_15          140985 non-null  object \n",
      " 16  id_16          129340 non-null  object \n",
      " 17  id_17          139369 non-null  float64\n",
      " 18  id_18          45113 non-null   float64\n",
      " 19  id_19          139318 non-null  float64\n",
      " 20  id_20          139261 non-null  float64\n",
      " 21  id_21          5159 non-null    float64\n",
      " 22  id_22          5169 non-null    float64\n",
      " 23  id_23          5169 non-null    object \n",
      " 24  id_24          4747 non-null    float64\n",
      " 25  id_25          5132 non-null    float64\n",
      " 26  id_26          5163 non-null    float64\n",
      " 27  id_27          5169 non-null    object \n",
      " 28  id_28          140978 non-null  object \n",
      " 29  id_29          140978 non-null  object \n",
      " 30  id_30          77565 non-null   object \n",
      " 31  id_31          140282 non-null  object \n",
      " 32  id_32          77586 non-null   float64\n",
      " 33  id_33          73289 non-null   object \n",
      " 34  id_34          77805 non-null   object \n",
      " 35  id_35          140985 non-null  object \n",
      " 36  id_36          140985 non-null  object \n",
      " 37  id_37          140985 non-null  object \n",
      " 38  id_38          140985 non-null  object \n",
      " 39  DeviceType     140810 non-null  object \n",
      " 40  DeviceInfo     118666 non-null  object \n",
      "dtypes: float64(23), int64(1), object(17)\n",
      "memory usage: 45.1+ MB\n"
     ]
    }
   ],
   "source": [
    "df = pd.read_csv('../Dataset/train_identity.csv')\n",
    "df.info()"
   ]
  }
 ],
 "metadata": {
  "kernelspec": {
   "display_name": "env",
   "language": "python",
   "name": "python3"
  },
  "language_info": {
   "codemirror_mode": {
    "name": "ipython",
    "version": 3
   },
   "file_extension": ".py",
   "mimetype": "text/x-python",
   "name": "python",
   "nbconvert_exporter": "python",
   "pygments_lexer": "ipython3",
   "version": "3.12.2"
  }
 },
 "nbformat": 4,
 "nbformat_minor": 2
}
